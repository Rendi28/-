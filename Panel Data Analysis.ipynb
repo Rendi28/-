{
 "cells": [
  {
   "cell_type": "code",
   "execution_count": 59,
   "id": "19f4fbd5-9a49-4724-8483-6d6507a648c5",
   "metadata": {},
   "outputs": [],
   "source": [
    "library(\"readr\")\n",
    "library(\"readxl\")\n",
    "library(\"ggplot2\")\n",
    "library(\"car\")\n",
    "library(\"foreign\")\n",
    "library(lattice)\n",
    "library(gplots)\n",
    "library(plm)\n",
    "library(lmtest)\n",
    "library(dplyr)\n",
    "library(sandwich)\n"
   ]
  },
  {
   "cell_type": "code",
   "execution_count": 60,
   "id": "e9773b6e-4655-4982-8811-4739900292d1",
   "metadata": {},
   "outputs": [
    {
     "data": {
      "text/html": [
       "<table class=\"dataframe\">\n",
       "<caption>A tibble: 6 × 7</caption>\n",
       "<thead>\n",
       "\t<tr><th scope=col>DATE</th><th scope=col>Country</th><th scope=col>Corp_IR</th><th scope=col>HH_IR</th><th scope=col>DFR</th><th scope=col>MRO</th><th scope=col>MLF</th></tr>\n",
       "\t<tr><th scope=col>&lt;dttm&gt;</th><th scope=col>&lt;chr&gt;</th><th scope=col>&lt;dbl&gt;</th><th scope=col>&lt;dbl&gt;</th><th scope=col>&lt;dbl&gt;</th><th scope=col>&lt;dbl&gt;</th><th scope=col>&lt;dbl&gt;</th></tr>\n",
       "</thead>\n",
       "<tbody>\n",
       "\t<tr><td>2005-01-31</td><td>Austria</td><td>3.46</td><td>3.78</td><td>1</td><td>2</td><td>3</td></tr>\n",
       "\t<tr><td>2005-02-28</td><td>Austria</td><td>3.50</td><td>3.60</td><td>1</td><td>2</td><td>3</td></tr>\n",
       "\t<tr><td>2005-03-31</td><td>Austria</td><td>3.50</td><td>3.59</td><td>1</td><td>2</td><td>3</td></tr>\n",
       "\t<tr><td>2005-04-30</td><td>Austria</td><td>3.50</td><td>3.47</td><td>1</td><td>2</td><td>3</td></tr>\n",
       "\t<tr><td>2005-05-31</td><td>Austria</td><td>3.47</td><td>3.54</td><td>1</td><td>2</td><td>3</td></tr>\n",
       "\t<tr><td>2005-06-30</td><td>Austria</td><td>3.44</td><td>3.52</td><td>1</td><td>2</td><td>3</td></tr>\n",
       "</tbody>\n",
       "</table>\n"
      ],
      "text/latex": [
       "A tibble: 6 × 7\n",
       "\\begin{tabular}{lllllll}\n",
       " DATE & Country & Corp\\_IR & HH\\_IR & DFR & MRO & MLF\\\\\n",
       " <dttm> & <chr> & <dbl> & <dbl> & <dbl> & <dbl> & <dbl>\\\\\n",
       "\\hline\n",
       "\t 2005-01-31 & Austria & 3.46 & 3.78 & 1 & 2 & 3\\\\\n",
       "\t 2005-02-28 & Austria & 3.50 & 3.60 & 1 & 2 & 3\\\\\n",
       "\t 2005-03-31 & Austria & 3.50 & 3.59 & 1 & 2 & 3\\\\\n",
       "\t 2005-04-30 & Austria & 3.50 & 3.47 & 1 & 2 & 3\\\\\n",
       "\t 2005-05-31 & Austria & 3.47 & 3.54 & 1 & 2 & 3\\\\\n",
       "\t 2005-06-30 & Austria & 3.44 & 3.52 & 1 & 2 & 3\\\\\n",
       "\\end{tabular}\n"
      ],
      "text/markdown": [
       "\n",
       "A tibble: 6 × 7\n",
       "\n",
       "| DATE &lt;dttm&gt; | Country &lt;chr&gt; | Corp_IR &lt;dbl&gt; | HH_IR &lt;dbl&gt; | DFR &lt;dbl&gt; | MRO &lt;dbl&gt; | MLF &lt;dbl&gt; |\n",
       "|---|---|---|---|---|---|---|\n",
       "| 2005-01-31 | Austria | 3.46 | 3.78 | 1 | 2 | 3 |\n",
       "| 2005-02-28 | Austria | 3.50 | 3.60 | 1 | 2 | 3 |\n",
       "| 2005-03-31 | Austria | 3.50 | 3.59 | 1 | 2 | 3 |\n",
       "| 2005-04-30 | Austria | 3.50 | 3.47 | 1 | 2 | 3 |\n",
       "| 2005-05-31 | Austria | 3.47 | 3.54 | 1 | 2 | 3 |\n",
       "| 2005-06-30 | Austria | 3.44 | 3.52 | 1 | 2 | 3 |\n",
       "\n"
      ],
      "text/plain": [
       "  DATE       Country Corp_IR HH_IR DFR MRO MLF\n",
       "1 2005-01-31 Austria 3.46    3.78  1   2   3  \n",
       "2 2005-02-28 Austria 3.50    3.60  1   2   3  \n",
       "3 2005-03-31 Austria 3.50    3.59  1   2   3  \n",
       "4 2005-04-30 Austria 3.50    3.47  1   2   3  \n",
       "5 2005-05-31 Austria 3.47    3.54  1   2   3  \n",
       "6 2005-06-30 Austria 3.44    3.52  1   2   3  "
      ]
     },
     "metadata": {},
     "output_type": "display_data"
    },
    {
     "data": {
      "text/html": [
       "<table class=\"dataframe\">\n",
       "<caption>A tibble: 6 × 7</caption>\n",
       "<thead>\n",
       "\t<tr><th scope=col>DATE</th><th scope=col>Country</th><th scope=col>Corp_IR</th><th scope=col>HH_IR</th><th scope=col>DFR</th><th scope=col>MRO</th><th scope=col>MLF</th></tr>\n",
       "\t<tr><th scope=col>&lt;dttm&gt;</th><th scope=col>&lt;chr&gt;</th><th scope=col>&lt;dbl&gt;</th><th scope=col>&lt;dbl&gt;</th><th scope=col>&lt;dbl&gt;</th><th scope=col>&lt;dbl&gt;</th><th scope=col>&lt;dbl&gt;</th></tr>\n",
       "</thead>\n",
       "<tbody>\n",
       "\t<tr><td>2023-07-31</td><td>high_dev</td><td>4.78125</td><td>3.91250</td><td>3.50</td><td>4.00</td><td>4.25</td></tr>\n",
       "\t<tr><td>2023-08-31</td><td>high_dev</td><td>4.83375</td><td>3.95500</td><td>3.74</td><td>4.24</td><td>4.49</td></tr>\n",
       "\t<tr><td>2023-09-30</td><td>high_dev</td><td>4.99750</td><td>4.00875</td><td>3.84</td><td>4.34</td><td>4.59</td></tr>\n",
       "\t<tr><td>2023-10-31</td><td>high_dev</td><td>5.06375</td><td>4.04000</td><td>4.00</td><td>4.50</td><td>4.75</td></tr>\n",
       "\t<tr><td>2023-11-30</td><td>high_dev</td><td>5.10875</td><td>4.11250</td><td>4.00</td><td>4.50</td><td>4.75</td></tr>\n",
       "\t<tr><td>2023-12-31</td><td>high_dev</td><td>5.13000</td><td>4.09625</td><td>4.00</td><td>4.50</td><td>4.75</td></tr>\n",
       "</tbody>\n",
       "</table>\n"
      ],
      "text/latex": [
       "A tibble: 6 × 7\n",
       "\\begin{tabular}{lllllll}\n",
       " DATE & Country & Corp\\_IR & HH\\_IR & DFR & MRO & MLF\\\\\n",
       " <dttm> & <chr> & <dbl> & <dbl> & <dbl> & <dbl> & <dbl>\\\\\n",
       "\\hline\n",
       "\t 2023-07-31 & high\\_dev & 4.78125 & 3.91250 & 3.50 & 4.00 & 4.25\\\\\n",
       "\t 2023-08-31 & high\\_dev & 4.83375 & 3.95500 & 3.74 & 4.24 & 4.49\\\\\n",
       "\t 2023-09-30 & high\\_dev & 4.99750 & 4.00875 & 3.84 & 4.34 & 4.59\\\\\n",
       "\t 2023-10-31 & high\\_dev & 5.06375 & 4.04000 & 4.00 & 4.50 & 4.75\\\\\n",
       "\t 2023-11-30 & high\\_dev & 5.10875 & 4.11250 & 4.00 & 4.50 & 4.75\\\\\n",
       "\t 2023-12-31 & high\\_dev & 5.13000 & 4.09625 & 4.00 & 4.50 & 4.75\\\\\n",
       "\\end{tabular}\n"
      ],
      "text/markdown": [
       "\n",
       "A tibble: 6 × 7\n",
       "\n",
       "| DATE &lt;dttm&gt; | Country &lt;chr&gt; | Corp_IR &lt;dbl&gt; | HH_IR &lt;dbl&gt; | DFR &lt;dbl&gt; | MRO &lt;dbl&gt; | MLF &lt;dbl&gt; |\n",
       "|---|---|---|---|---|---|---|\n",
       "| 2023-07-31 | high_dev | 4.78125 | 3.91250 | 3.50 | 4.00 | 4.25 |\n",
       "| 2023-08-31 | high_dev | 4.83375 | 3.95500 | 3.74 | 4.24 | 4.49 |\n",
       "| 2023-09-30 | high_dev | 4.99750 | 4.00875 | 3.84 | 4.34 | 4.59 |\n",
       "| 2023-10-31 | high_dev | 5.06375 | 4.04000 | 4.00 | 4.50 | 4.75 |\n",
       "| 2023-11-30 | high_dev | 5.10875 | 4.11250 | 4.00 | 4.50 | 4.75 |\n",
       "| 2023-12-31 | high_dev | 5.13000 | 4.09625 | 4.00 | 4.50 | 4.75 |\n",
       "\n"
      ],
      "text/plain": [
       "  DATE       Country  Corp_IR HH_IR   DFR  MRO  MLF \n",
       "1 2023-07-31 high_dev 4.78125 3.91250 3.50 4.00 4.25\n",
       "2 2023-08-31 high_dev 4.83375 3.95500 3.74 4.24 4.49\n",
       "3 2023-09-30 high_dev 4.99750 4.00875 3.84 4.34 4.59\n",
       "4 2023-10-31 high_dev 5.06375 4.04000 4.00 4.50 4.75\n",
       "5 2023-11-30 high_dev 5.10875 4.11250 4.00 4.50 4.75\n",
       "6 2023-12-31 high_dev 5.13000 4.09625 4.00 4.50 4.75"
      ]
     },
     "metadata": {},
     "output_type": "display_data"
    }
   ],
   "source": [
    "Panel <- read_excel(\"C:/Users/readytouse/Desktop/Magistrale/banking/project_3/panel_dataset.xlsx\")\n",
    "head(Panel)\n",
    "tail(Panel)"
   ]
  },
  {
   "cell_type": "markdown",
   "id": "f28a9978-0b19-4429-9f44-9d965bdc211e",
   "metadata": {},
   "source": [
    "#### Exploring Panel Data"
   ]
  },
  {
   "cell_type": "code",
   "execution_count": 61,
   "id": "97402704-2b3c-4776-8628-ab70f74eb4e6",
   "metadata": {},
   "outputs": [
    {
     "data": {
      "image/png": "[encoded data removed]",
      "text/plain": [
       "plot without title"
      ]
     },
     "metadata": {
      "image/png": {
       "height": 420,
       "width": 420
      }
     },
     "output_type": "display_data"
    }
   ],
   "source": [
    "coplot(Corp_IR ~ DATE|Country, type=\"l\", data=Panel) "
   ]
  },
  {
   "cell_type": "code",
   "execution_count": 62,
   "id": "86fb8a73-fb8b-460a-be2f-2dd7d027a221",
   "metadata": {},
   "outputs": [
    {
     "data": {
      "image/png": "[encoded data removed]",
      "text/plain": [
       "plot without title"
      ]
     },
     "metadata": {
      "image/png": {
       "height": 420,
       "width": 420
      }
     },
     "output_type": "display_data"
    }
   ],
   "source": [
    "coplot(HH_IR ~ DATE|Country, type=\"l\", data=Panel) "
   ]
  },
  {
   "cell_type": "code",
   "execution_count": 63,
   "id": "344a9f3a-5087-4473-9251-2d9e66166a5f",
   "metadata": {},
   "outputs": [
    {
     "data": {
      "image/png": "[encoded data removed]",
      "text/plain": [
       "plot without title"
      ]
     },
     "metadata": {
      "image/png": {
       "height": 420,
       "width": 420
      }
     },
     "output_type": "display_data"
    }
   ],
   "source": [
    "xyplot(Corp_IR ~ DATE | Country, \n",
    "       data = subset(Panel, Country %in% c(\"less_dev\", \"dev\", \"high_dev\")),\n",
    "       type = \"l\",  # \"p\" = points only\n",
    "       layout = c(1, 3))  # 1 column, 3 rows (optional)\n"
   ]
  },
  {
   "cell_type": "code",
   "execution_count": 64,
   "id": "cb6c3ea0-9f70-4374-87e5-11ba4df688b4",
   "metadata": {},
   "outputs": [
    {
     "data": {
      "image/png": "[encoded data removed]",
      "text/plain": [
       "plot without title"
      ]
     },
     "metadata": {
      "image/png": {
       "height": 420,
       "width": 420
      }
     },
     "output_type": "display_data"
    }
   ],
   "source": [
    "xyplot(HH_IR ~ DATE | Country, \n",
    "       data = subset(Panel, Country %in% c(\"less_dev\", \"dev\", \"high_dev\")),\n",
    "       type = \"l\",\n",
    "      layout = c(1, 3))  # \"p\" = points only\n",
    "         # 1 column, 3 rows (optional)\n"
   ]
  },
  {
   "cell_type": "code",
   "execution_count": 65,
   "id": "3d26aa49-3676-4fdc-81c8-71ce8bccc222",
   "metadata": {},
   "outputs": [
    {
     "data": {
      "image/png": "[encoded data removed]",
      "text/plain": [
       "Plot with title \"Heterogeineity across countries\""
      ]
     },
     "metadata": {
      "image/png": {
       "height": 420,
       "width": 420
      }
     },
     "output_type": "display_data"
    },
    {
     "data": {
      "image/png": "[encoded data removed]",
      "text/plain": [
       "Plot with title \"Heterogeineity across countries\""
      ]
     },
     "metadata": {
      "image/png": {
       "height": 420,
       "width": 420
      }
     },
     "output_type": "display_data"
    }
   ],
   "source": [
    "# heterogeneity across countries\n",
    "\n",
    "plotmeans(Corp_IR ~ Country, main=\"Heterogeineity across countries\", data=Panel)\n",
    "plotmeans(HH_IR ~ Country, main=\"Heterogeineity across countries\", data=Panel)\n"
   ]
  },
  {
   "cell_type": "code",
   "execution_count": 66,
   "id": "9bfbb00c-fa95-4738-a4cc-f473e940cc7a",
   "metadata": {},
   "outputs": [
    {
     "data": {
      "image/png": "[encoded data removed]",
      "text/plain": [
       "plot without title"
      ]
     },
     "metadata": {
      "image/png": {
       "height": 420,
       "width": 420
      }
     },
     "output_type": "display_data"
    }
   ],
   "source": [
    "# heterogeneity across years for CORPORATIONS\n",
    "\n",
    "Panel$Year <- format(as.Date(Panel$DATE), \"%Y\")   # we aggregate for year using the mean in order to have better readability of the plot\n",
    "\n",
    "year_summary <- Panel %>%\n",
    "  group_by(Year) %>%\n",
    "  summarise(\n",
    "    Corp_IR_mean = mean(Corp_IR, na.rm = TRUE),\n",
    "    Corp_IR_sd = sd(Corp_IR, na.rm = TRUE),\n",
    "    n = n(),\n",
    "    se = Corp_IR_sd / sqrt(n)\n",
    "  )\n",
    "\n",
    "# Plot with error bars\n",
    "ggplot(year_summary, aes(x = as.numeric(Year), y = Corp_IR_mean)) +\n",
    "  geom_line(color = \"blue\") +\n",
    "  geom_point() +\n",
    "  geom_errorbar(aes(ymin = Corp_IR_mean - se, ymax = Corp_IR_mean + se), width = 0.2) +\n",
    "  labs(title = \"Yearly Corporate IR Mean with SE\", x = \"Year\", y = \"Corp_IR\") +\n",
    "  theme_minimal()"
   ]
  },
  {
   "cell_type": "code",
   "execution_count": 67,
   "id": "1c6f856f-8115-4cf9-8510-28e58bcc5d7f",
   "metadata": {},
   "outputs": [
    {
     "data": {
      "image/png": "[encoded data removed]",
      "text/plain": [
       "plot without title"
      ]
     },
     "metadata": {
      "image/png": {
       "height": 420,
       "width": 420
      }
     },
     "output_type": "display_data"
    }
   ],
   "source": [
    "# heterogeneity across years for HOUSEHOLDS\n",
    "\n",
    "Panel$Year <- format(as.Date(Panel$DATE), \"%Y\")   # we aggregate for year using the mean in order to have better readability of the plot\n",
    "\n",
    "year_summary <- Panel %>%\n",
    "  group_by(Year) %>%\n",
    "  summarise(\n",
    "    HH_IR_mean = mean(HH_IR, na.rm = TRUE),\n",
    "    HH_IR_sd = sd(HH_IR, na.rm = TRUE),\n",
    "    n = n(),\n",
    "    se = HH_IR_sd / sqrt(n)\n",
    "  )\n",
    "\n",
    "# Plot with error bars\n",
    "ggplot(year_summary, aes(x = as.numeric(Year), y = HH_IR_mean)) +\n",
    "  geom_line(color = \"blue\") +\n",
    "  geom_point() +\n",
    "  geom_errorbar(aes(ymin = HH_IR_mean - se, ymax = HH_IR_mean + se), width = 0.2) +\n",
    "  labs(title = \"Yearly Households IR Mean with SE\", x = \"Year\", y = \"HH_IR\") +\n",
    "  theme_minimal()"
   ]
  },
  {
   "cell_type": "markdown",
   "id": "67286078-5789-4379-bdd0-2785613cb291",
   "metadata": {},
   "source": [
    "### Pooled regression "
   ]
  },
  {
   "cell_type": "code",
   "execution_count": 68,
   "id": "c68bd9c9-62c4-4dd9-9b07-983fafb76c26",
   "metadata": {},
   "outputs": [
    {
     "data": {
      "text/plain": [
       "\n",
       "Call:\n",
       "lm(formula = Corp_IR ~ MRO, data = Panel)\n",
       "\n",
       "Residuals:\n",
       "    Min      1Q  Median      3Q     Max \n",
       "-2.1507 -0.6846 -0.3016  0.4436  4.1898 \n",
       "\n",
       "Coefficients:\n",
       "            Estimate Std. Error t value Pr(>|t|)    \n",
       "(Intercept)  2.31335    0.01934  119.61   <2e-16 ***\n",
       "MRO          0.82720    0.01060   78.03   <2e-16 ***\n",
       "---\n",
       "Signif. codes:  0 '***' 0.001 '**' 0.01 '*' 0.05 '.' 0.1 ' ' 1\n",
       "\n",
       "Residual standard error: 0.9556 on 4102 degrees of freedom\n",
       "Multiple R-squared:  0.5975,\tAdjusted R-squared:  0.5974 \n",
       "F-statistic:  6088 on 1 and 4102 DF,  p-value: < 2.2e-16\n"
      ]
     },
     "metadata": {},
     "output_type": "display_data"
    },
    {
     "data": {
      "text/plain": [
       "\n",
       "Call:\n",
       "lm(formula = HH_IR ~ MRO, data = Panel)\n",
       "\n",
       "Residuals:\n",
       "    Min      1Q  Median      3Q     Max \n",
       "-2.0183 -0.4438 -0.0107  0.4787  2.4320 \n",
       "\n",
       "Coefficients:\n",
       "            Estimate Std. Error t value Pr(>|t|)    \n",
       "(Intercept) 2.213831   0.013577  163.06   <2e-16 ***\n",
       "MRO         0.718432   0.007442   96.54   <2e-16 ***\n",
       "---\n",
       "Signif. codes:  0 '***' 0.001 '**' 0.01 '*' 0.05 '.' 0.1 ' ' 1\n",
       "\n",
       "Residual standard error: 0.6708 on 4102 degrees of freedom\n",
       "Multiple R-squared:  0.6944,\tAdjusted R-squared:  0.6943 \n",
       "F-statistic:  9319 on 1 and 4102 DF,  p-value: < 2.2e-16\n"
      ]
     },
     "metadata": {},
     "output_type": "display_data"
    }
   ],
   "source": [
    "# regular OLS regression -> pooled model\n",
    "\n",
    "#IMP: doesn't consider heterogeneity among groups and time\n",
    "\n",
    "pooled_reg_corp <- lm(Corp_IR ~ MRO, data = Panel)\n",
    "summary(pooled_reg_corp)\n",
    "\n",
    "pooled_reg_HH <-lm(HH_IR ~ MRO, data = Panel)\n",
    "summary(pooled_reg_HH)"
   ]
  },
  {
   "cell_type": "code",
   "execution_count": 69,
   "id": "e34771a8-66fd-4252-9b6e-e9e6597641c0",
   "metadata": {},
   "outputs": [
    {
     "data": {
      "image/png": "[encoded data removed]",
      "text/plain": [
       "plot without title"
      ]
     },
     "metadata": {
      "image/png": {
       "height": 420,
       "width": 420
      }
     },
     "output_type": "display_data"
    }
   ],
   "source": [
    "plot(Panel$MRO, Panel$Corp_IR, pch=19, xlab = \"MRO\", ylab=\"Corporation IR\")\n",
    "abline(lm(Panel$Corp_IR ~ Panel$MRO), lwd = 3, col = \"red\")"
   ]
  },
  {
   "cell_type": "code",
   "execution_count": 70,
   "id": "8645bc59-cbb9-44f2-9580-5c5ff06cd38d",
   "metadata": {},
   "outputs": [
    {
     "data": {
      "image/png": "[encoded data removed]",
      "text/plain": [
       "plot without title"
      ]
     },
     "metadata": {
      "image/png": {
       "height": 420,
       "width": 420
      }
     },
     "output_type": "display_data"
    }
   ],
   "source": [
    "plot(Panel$MRO, Panel$HH_IR, pch=19, xlab = \"MRO\", ylab=\"Households IR\")\n",
    "abline(lm(Panel$HH_IR ~ Panel$MRO), lwd = 3, col = \"red\")"
   ]
  },
  {
   "cell_type": "markdown",
   "id": "f02b9c11-95e8-4730-8ea5-6b1a311330f9",
   "metadata": {},
   "source": [
    "## Fixed effect model"
   ]
  },
  {
   "cell_type": "code",
   "execution_count": 71,
   "id": "afdd0b11-e650-4505-a004-3da09efb8115",
   "metadata": {},
   "outputs": [
    {
     "data": {
      "text/html": [
       "<table class=\"dataframe\">\n",
       "<caption>A pdata.frame: 6 × 8</caption>\n",
       "<thead>\n",
       "\t<tr><th></th><th scope=col>DATE</th><th scope=col>Country</th><th scope=col>Corp_IR</th><th scope=col>HH_IR</th><th scope=col>DFR</th><th scope=col>MRO</th><th scope=col>MLF</th><th scope=col>Year</th></tr>\n",
       "\t<tr><th></th><th scope=col>&lt;fct&gt;</th><th scope=col>&lt;fct&gt;</th><th scope=col>&lt;dbl&gt;</th><th scope=col>&lt;dbl&gt;</th><th scope=col>&lt;dbl&gt;</th><th scope=col>&lt;dbl&gt;</th><th scope=col>&lt;dbl&gt;</th><th scope=col>&lt;chr&gt;</th></tr>\n",
       "</thead>\n",
       "<tbody>\n",
       "\t<tr><th scope=row>Austria-2005-01-31</th><td>2005-01-31</td><td>Austria</td><td>3.46</td><td>3.78</td><td>1</td><td>2</td><td>3</td><td>2005</td></tr>\n",
       "\t<tr><th scope=row>Austria-2005-02-28</th><td>2005-02-28</td><td>Austria</td><td>3.50</td><td>3.60</td><td>1</td><td>2</td><td>3</td><td>2005</td></tr>\n",
       "\t<tr><th scope=row>Austria-2005-03-31</th><td>2005-03-31</td><td>Austria</td><td>3.50</td><td>3.59</td><td>1</td><td>2</td><td>3</td><td>2005</td></tr>\n",
       "\t<tr><th scope=row>Austria-2005-04-30</th><td>2005-04-30</td><td>Austria</td><td>3.50</td><td>3.47</td><td>1</td><td>2</td><td>3</td><td>2005</td></tr>\n",
       "\t<tr><th scope=row>Austria-2005-05-31</th><td>2005-05-31</td><td>Austria</td><td>3.47</td><td>3.54</td><td>1</td><td>2</td><td>3</td><td>2005</td></tr>\n",
       "\t<tr><th scope=row>Austria-2005-06-30</th><td>2005-06-30</td><td>Austria</td><td>3.44</td><td>3.52</td><td>1</td><td>2</td><td>3</td><td>2005</td></tr>\n",
       "</tbody>\n",
       "</table>\n"
      ],
      "text/latex": [
       "A pdata.frame: 6 × 8\n",
       "\\begin{tabular}{r|llllllll}\n",
       "  & DATE & Country & Corp\\_IR & HH\\_IR & DFR & MRO & MLF & Year\\\\\n",
       "  & <fct> & <fct> & <dbl> & <dbl> & <dbl> & <dbl> & <dbl> & <chr>\\\\\n",
       "\\hline\n",
       "\tAustria-2005-01-31 & 2005-01-31 & Austria & 3.46 & 3.78 & 1 & 2 & 3 & 2005\\\\\n",
       "\tAustria-2005-02-28 & 2005-02-28 & Austria & 3.50 & 3.60 & 1 & 2 & 3 & 2005\\\\\n",
       "\tAustria-2005-03-31 & 2005-03-31 & Austria & 3.50 & 3.59 & 1 & 2 & 3 & 2005\\\\\n",
       "\tAustria-2005-04-30 & 2005-04-30 & Austria & 3.50 & 3.47 & 1 & 2 & 3 & 2005\\\\\n",
       "\tAustria-2005-05-31 & 2005-05-31 & Austria & 3.47 & 3.54 & 1 & 2 & 3 & 2005\\\\\n",
       "\tAustria-2005-06-30 & 2005-06-30 & Austria & 3.44 & 3.52 & 1 & 2 & 3 & 2005\\\\\n",
       "\\end{tabular}\n"
      ],
      "text/markdown": [
       "\n",
       "A pdata.frame: 6 × 8\n",
       "\n",
       "| <!--/--> | DATE &lt;fct&gt; | Country &lt;fct&gt; | Corp_IR &lt;dbl&gt; | HH_IR &lt;dbl&gt; | DFR &lt;dbl&gt; | MRO &lt;dbl&gt; | MLF &lt;dbl&gt; | Year &lt;chr&gt; |\n",
       "|---|---|---|---|---|---|---|---|---|\n",
       "| Austria-2005-01-31 | 2005-01-31 | Austria | 3.46 | 3.78 | 1 | 2 | 3 | 2005 |\n",
       "| Austria-2005-02-28 | 2005-02-28 | Austria | 3.50 | 3.60 | 1 | 2 | 3 | 2005 |\n",
       "| Austria-2005-03-31 | 2005-03-31 | Austria | 3.50 | 3.59 | 1 | 2 | 3 | 2005 |\n",
       "| Austria-2005-04-30 | 2005-04-30 | Austria | 3.50 | 3.47 | 1 | 2 | 3 | 2005 |\n",
       "| Austria-2005-05-31 | 2005-05-31 | Austria | 3.47 | 3.54 | 1 | 2 | 3 | 2005 |\n",
       "| Austria-2005-06-30 | 2005-06-30 | Austria | 3.44 | 3.52 | 1 | 2 | 3 | 2005 |\n",
       "\n"
      ],
      "text/plain": [
       "                   DATE       Country Corp_IR HH_IR DFR MRO MLF Year\n",
       "Austria-2005-01-31 2005-01-31 Austria 3.46    3.78  1   2   3   2005\n",
       "Austria-2005-02-28 2005-02-28 Austria 3.50    3.60  1   2   3   2005\n",
       "Austria-2005-03-31 2005-03-31 Austria 3.50    3.59  1   2   3   2005\n",
       "Austria-2005-04-30 2005-04-30 Austria 3.50    3.47  1   2   3   2005\n",
       "Austria-2005-05-31 2005-05-31 Austria 3.47    3.54  1   2   3   2005\n",
       "Austria-2005-06-30 2005-06-30 Austria 3.44    3.52  1   2   3   2005"
      ]
     },
     "metadata": {},
     "output_type": "display_data"
    }
   ],
   "source": [
    "# Declare the panel structure\n",
    "pdata <- pdata.frame(Panel, index = c(\"Country\", \"DATE\"))\n",
    "head(pdata)\n"
   ]
  },
  {
   "cell_type": "markdown",
   "id": "e2eab881-036c-467a-b723-e27f669f951a",
   "metadata": {},
   "source": [
    "#### FEM for Corporation"
   ]
  },
  {
   "cell_type": "code",
   "execution_count": 72,
   "id": "9d71cefe-7d7f-4211-9c67-440fc8eb71a3",
   "metadata": {},
   "outputs": [
    {
     "data": {
      "text/plain": [
       "Oneway (individual) effect Within Model\n",
       "\n",
       "Call:\n",
       "plm(formula = Corp_IR ~ MRO, data = pdata, model = \"within\", \n",
       "    index = c(\"Country\", \"DATE\"))\n",
       "\n",
       "Balanced Panel: n = 18, T = 228, N = 4104\n",
       "\n",
       "Residuals:\n",
       "     Min.   1st Qu.    Median   3rd Qu.      Max. \n",
       "-1.876908 -0.350159 -0.055279  0.275185  2.520516 \n",
       "\n",
       "Coefficients:\n",
       "     Estimate Std. Error t-value  Pr(>|t|)    \n",
       "MRO 0.8271965  0.0065957  125.41 < 2.2e-16 ***\n",
       "---\n",
       "Signif. codes:  0 '***' 0.001 '**' 0.01 '*' 0.05 '.' 0.1 ' ' 1\n",
       "\n",
       "Total Sum of Squares:    7003.6\n",
       "Residual Sum of Squares: 1443.9\n",
       "R-Squared:      0.79383\n",
       "Adj. R-Squared: 0.79292\n",
       "F-statistic: 15728.9 on 1 and 4085 DF, p-value: < 2.22e-16"
      ]
     },
     "metadata": {},
     "output_type": "display_data"
    }
   ],
   "source": [
    "# fixed effects for country and for date for CORPORATION\n",
    "fem1_Corp <- plm(Corp_IR ~ MRO, data = pdata, index = c(\"Country\", \"DATE\"), model = \"within\")\n",
    "summary(fem1_Corp)"
   ]
  },
  {
   "cell_type": "code",
   "execution_count": 73,
   "id": "e838201c-2bc1-461f-aec1-50035166ce09",
   "metadata": {},
   "outputs": [
    {
     "data": {
      "image/png": "[encoded data removed]",
      "text/plain": [
       "Plot with title \"Normal Q-Q Plot\""
      ]
     },
     "metadata": {
      "image/png": {
       "height": 420,
       "width": 420
      }
     },
     "output_type": "display_data"
    }
   ],
   "source": [
    "# check for normality of the errors\n",
    "\n",
    "qqnorm(residuals(fem1_Corp))\n",
    "qqline(residuals(fem1_Corp))"
   ]
  },
  {
   "cell_type": "code",
   "execution_count": 74,
   "id": "f39e7a6f-7f4b-4ebb-918e-6613a500f67b",
   "metadata": {},
   "outputs": [
    {
     "data": {
      "text/plain": [
       "\n",
       "\tBreusch-Godfrey test for serial correlation of order up to 1\n",
       "\n",
       "data:  fem1_Corp\n",
       "LM test = 3930.5, df = 1, p-value < 2.2e-16\n"
      ]
     },
     "metadata": {},
     "output_type": "display_data"
    },
    {
     "data": {
      "text/plain": [
       "\n",
       "\tBreusch-Godfrey test for serial correlation of order up to 2\n",
       "\n",
       "data:  fem1_Corp\n",
       "LM test = 3943.8, df = 2, p-value < 2.2e-16\n"
      ]
     },
     "metadata": {},
     "output_type": "display_data"
    },
    {
     "data": {
      "text/plain": [
       "\n",
       "\tBreusch-Godfrey test for serial correlation of order up to 3\n",
       "\n",
       "data:  fem1_Corp\n",
       "LM test = 3949.9, df = 3, p-value < 2.2e-16\n"
      ]
     },
     "metadata": {},
     "output_type": "display_data"
    }
   ],
   "source": [
    "# understand why there is no normality\n",
    "\n",
    "# check for autocorrelation\n",
    "\n",
    "bgtest(fem1_Corp, order = 1)\n",
    "bgtest(fem1_Corp, order = 2)\n",
    "bgtest(fem1_Corp, order = 3)  \n",
    "\n",
    "# small p-values for all orders so I refuse H0 and I assume autocorrelation"
   ]
  },
  {
   "cell_type": "code",
   "execution_count": 75,
   "id": "4a63bad2-4d59-4bcd-afd3-824f902cc599",
   "metadata": {},
   "outputs": [
    {
     "data": {
      "text/plain": [
       "\n",
       "\tstudentized Breusch-Pagan test\n",
       "\n",
       "data:  fem1_Corp\n",
       "BP = 48.45, df = 1, p-value = 3.388e-12\n"
      ]
     },
     "metadata": {},
     "output_type": "display_data"
    }
   ],
   "source": [
    "# check for heteroskedasticity \n",
    "\n",
    "bptest(fem1_Corp)  \n",
    "\n",
    "# small p-values so I refuse H0 and I assume heteroskedasticity"
   ]
  },
  {
   "cell_type": "code",
   "execution_count": 76,
   "id": "89f0aa87-8646-493a-8de6-f7610a29c156",
   "metadata": {},
   "outputs": [
    {
     "data": {
      "text/plain": [
       "\n",
       "t test of coefficients:\n",
       "\n",
       "    Estimate Std. Error t value  Pr(>|t|)    \n",
       "MRO 0.827196   0.023167  35.706 < 2.2e-16 ***\n",
       "---\n",
       "Signif. codes:  0 '***' 0.001 '**' 0.01 '*' 0.05 '.' 0.1 ' ' 1\n"
      ]
     },
     "metadata": {},
     "output_type": "display_data"
    }
   ],
   "source": [
    "# test coefficient with a matrix robust for heterosk. and autocorrelation clustered within each group\n",
    "\n",
    "coeftest(fem1_Corp, vcov = vcovHC(fem1_Corp, method = \"arellano\", type = \"HC1\", cluster = \"group\"))"
   ]
  },
  {
   "cell_type": "markdown",
   "id": "3b83a51d-657e-4c29-b627-7957a2ce2649",
   "metadata": {},
   "source": [
    "#### FEM for Households"
   ]
  },
  {
   "cell_type": "code",
   "execution_count": 77,
   "id": "e00c3d95-fc30-49b1-8b2f-dc8777c0030e",
   "metadata": {},
   "outputs": [
    {
     "data": {
      "text/plain": [
       "Oneway (individual) effect Within Model\n",
       "\n",
       "Call:\n",
       "plm(formula = HH_IR ~ MRO, data = pdata, model = \"within\", index = c(\"Country\", \n",
       "    \"DATE\"))\n",
       "\n",
       "Balanced Panel: n = 18, T = 228, N = 4104\n",
       "\n",
       "Residuals:\n",
       "     Min.   1st Qu.    Median   3rd Qu.      Max. \n",
       "-2.126751 -0.339991 -0.016139  0.361171  1.982717 \n",
       "\n",
       "Coefficients:\n",
       "     Estimate Std. Error t-value  Pr(>|t|)    \n",
       "MRO 0.7184321  0.0063496  113.15 < 2.2e-16 ***\n",
       "---\n",
       "Signif. codes:  0 '***' 0.001 '**' 0.01 '*' 0.05 '.' 0.1 ' ' 1\n",
       "\n",
       "Total Sum of Squares:    5532\n",
       "Residual Sum of Squares: 1338.2\n",
       "R-Squared:      0.7581\n",
       "Adj. R-Squared: 0.75703\n",
       "F-statistic: 12801.8 on 1 and 4085 DF, p-value: < 2.22e-16"
      ]
     },
     "metadata": {},
     "output_type": "display_data"
    }
   ],
   "source": [
    "# fixed effects for country and for date for HH\n",
    "\n",
    "fem1_HH <- plm(HH_IR ~ MRO, data = pdata, index = c(\"Country\", \"DATE\"), model = \"within\")\n",
    "summary(fem1_HH)"
   ]
  },
  {
   "cell_type": "code",
   "execution_count": 78,
   "id": "39d7f589-1641-4a97-a9b8-851c2b220bcc",
   "metadata": {},
   "outputs": [
    {
     "data": {
      "text/plain": [
       "\n",
       "\tBreusch-Godfrey test for serial correlation of order up to 1\n",
       "\n",
       "data:  fem1_HH\n",
       "LM test = 3942, df = 1, p-value < 2.2e-16\n"
      ]
     },
     "metadata": {},
     "output_type": "display_data"
    },
    {
     "data": {
      "text/plain": [
       "\n",
       "\tBreusch-Godfrey test for serial correlation of order up to 2\n",
       "\n",
       "data:  fem1_HH\n",
       "LM test = 3942.5, df = 2, p-value < 2.2e-16\n"
      ]
     },
     "metadata": {},
     "output_type": "display_data"
    },
    {
     "data": {
      "text/plain": [
       "\n",
       "\tBreusch-Godfrey test for serial correlation of order up to 3\n",
       "\n",
       "data:  fem1_HH\n",
       "LM test = 3943.4, df = 3, p-value < 2.2e-16\n"
      ]
     },
     "metadata": {},
     "output_type": "display_data"
    }
   ],
   "source": [
    "# same thing for households, so check for autocorrelation up to order 3\n",
    "\n",
    "bgtest(fem1_HH, order = 1)\n",
    "bgtest(fem1_HH, order = 2)\n",
    "bgtest(fem1_HH, order = 3)  "
   ]
  },
  {
   "cell_type": "code",
   "execution_count": 79,
   "id": "61202d89-1d36-4267-9380-a0d1987a568b",
   "metadata": {},
   "outputs": [
    {
     "data": {
      "text/plain": [
       "\n",
       "\tstudentized Breusch-Pagan test\n",
       "\n",
       "data:  fem1_HH\n",
       "BP = 23.962, df = 1, p-value = 9.826e-07\n"
      ]
     },
     "metadata": {},
     "output_type": "display_data"
    }
   ],
   "source": [
    "# check for heteroskedasticity \n",
    "\n",
    "bptest(fem1_HH)  \n",
    "\n",
    "# small p-values so I refuse H0 and I assume heteroskedasticity"
   ]
  },
  {
   "cell_type": "code",
   "execution_count": 80,
   "id": "1aa685d5-0cfa-4b19-890a-64c8aed276fc",
   "metadata": {},
   "outputs": [
    {
     "data": {
      "text/plain": [
       "\n",
       "t test of coefficients:\n",
       "\n",
       "    Estimate Std. Error t value  Pr(>|t|)    \n",
       "MRO  0.71843    0.03083  23.303 < 2.2e-16 ***\n",
       "---\n",
       "Signif. codes:  0 '***' 0.001 '**' 0.01 '*' 0.05 '.' 0.1 ' ' 1\n"
      ]
     },
     "metadata": {},
     "output_type": "display_data"
    }
   ],
   "source": [
    "# Robust standard errors (heteroskedasticity-robust)\n",
    "\n",
    "coeftest(fem1_HH, vcov = vcovHC(fem1_HH, method = \"arellano\", type = \"HC1\", cluster = \"group\"))"
   ]
  },
  {
   "cell_type": "code",
   "execution_count": 81,
   "id": "9498bf83-9538-4982-9f67-dd37d70c9437",
   "metadata": {},
   "outputs": [
    {
     "data": {
      "text/html": [
       "<style>\n",
       ".dl-inline {width: auto; margin:0; padding: 0}\n",
       ".dl-inline>dt, .dl-inline>dd {float: none; width: auto; display: inline-block}\n",
       ".dl-inline>dt::after {content: \":\\0020\"; padding-right: .5ex}\n",
       ".dl-inline>dt:not(:first-of-type) {padding-left: .5ex}\n",
       "</style><dl class=dl-inline><dt>Austria</dt><dd>1.62741866628387</dd><dt>Belgium</dt><dd>1.72807656102071</dd><dt>dev</dt><dd>2.20237480663474</dd><dt>Estonia</dt><dd>2.95434849084527</dd><dt>euro_area</dt><dd>2.01908533295053</dd><dt>Finland</dt><dd>1.60070813996807</dd><dt>France</dt><dd>1.63544498207334</dd><dt>Germany</dt><dd>2.0517169118979</dd><dt>Greece</dt><dd>4.18452392944176</dd><dt>high_dev</dt><dd>1.81723226277509</dd><dt>Ireland</dt><dd>2.84869059610843</dd><dt>Italy</dt><dd>2.3176818241786</dd><dt>less_dev</dt><dd>3.32668767213182</dd><dt>Luxembourg</dt><dd>1.42781340312597</dd><dt>Netherlands</dt><dd>1.61798884172246</dd><dt>Portugal</dt><dd>3.3522870873365</dd><dt>Slovenia</dt><dd>2.84119059610843</dd><dt>Spain</dt><dd>2.08706778909088</dd></dl>\n"
      ],
      "text/latex": [
       "\\begin{description*}\n",
       "\\item[Austria] 1.62741866628387\n",
       "\\item[Belgium] 1.72807656102071\n",
       "\\item[dev] 2.20237480663474\n",
       "\\item[Estonia] 2.95434849084527\n",
       "\\item[euro\\textbackslash{}\\_area] 2.01908533295053\n",
       "\\item[Finland] 1.60070813996807\n",
       "\\item[France] 1.63544498207334\n",
       "\\item[Germany] 2.0517169118979\n",
       "\\item[Greece] 4.18452392944176\n",
       "\\item[high\\textbackslash{}\\_dev] 1.81723226277509\n",
       "\\item[Ireland] 2.84869059610843\n",
       "\\item[Italy] 2.3176818241786\n",
       "\\item[less\\textbackslash{}\\_dev] 3.32668767213182\n",
       "\\item[Luxembourg] 1.42781340312597\n",
       "\\item[Netherlands] 1.61798884172246\n",
       "\\item[Portugal] 3.3522870873365\n",
       "\\item[Slovenia] 2.84119059610843\n",
       "\\item[Spain] 2.08706778909088\n",
       "\\end{description*}\n"
      ],
      "text/markdown": [
       "Austria\n",
       ":   1.62741866628387Belgium\n",
       ":   1.72807656102071dev\n",
       ":   2.20237480663474Estonia\n",
       ":   2.95434849084527euro_area\n",
       ":   2.01908533295053Finland\n",
       ":   1.60070813996807France\n",
       ":   1.63544498207334Germany\n",
       ":   2.0517169118979Greece\n",
       ":   4.18452392944176high_dev\n",
       ":   1.81723226277509Ireland\n",
       ":   2.84869059610843Italy\n",
       ":   2.3176818241786less_dev\n",
       ":   3.32668767213182Luxembourg\n",
       ":   1.42781340312597Netherlands\n",
       ":   1.61798884172246Portugal\n",
       ":   3.3522870873365Slovenia\n",
       ":   2.84119059610843Spain\n",
       ":   2.08706778909088\n",
       "\n"
      ],
      "text/plain": [
       "    Austria     Belgium         dev     Estonia   euro_area     Finland \n",
       "     1.6274      1.7281      2.2024      2.9543      2.0191      1.6007 \n",
       "     France     Germany      Greece    high_dev     Ireland       Italy \n",
       "     1.6354      2.0517      4.1845      1.8172      2.8487      2.3177 \n",
       "   less_dev  Luxembourg Netherlands    Portugal    Slovenia       Spain \n",
       "     3.3267      1.4278      1.6180      3.3523      2.8412      2.0871 "
      ]
     },
     "metadata": {},
     "output_type": "display_data"
    }
   ],
   "source": [
    "# visualize the fixed effects for CORPORATION\n",
    "\n",
    "fixef(fem1_Corp)"
   ]
  },
  {
   "cell_type": "code",
   "execution_count": 82,
   "id": "c31abf1c-660c-479e-8ed2-30ae5edc4726",
   "metadata": {},
   "outputs": [
    {
     "data": {
      "text/html": [
       "<style>\n",
       ".dl-inline {width: auto; margin:0; padding: 0}\n",
       ".dl-inline>dt, .dl-inline>dd {float: none; width: auto; display: inline-block}\n",
       ".dl-inline>dt::after {content: \":\\0020\"; padding-right: .5ex}\n",
       ".dl-inline>dt:not(:first-of-type) {padding-left: .5ex}\n",
       "</style><dl class=dl-inline><dt>Austria</dt><dd>1.87959610464545</dd><dt>Belgium</dt><dd>2.24972768359281</dd><dt>dev</dt><dd>2.19593382394369</dd><dt>Estonia</dt><dd>2.48731540289106</dd><dt>euro_area</dt><dd>2.14858733271562</dd><dt>Finland</dt><dd>1.35328031517176</dd><dt>France</dt><dd>2.02038557832965</dd><dt>Germany</dt><dd>2.18222768359281</dd><dt>Greece</dt><dd>2.64902592920685</dd><dt>high_dev</dt><dd>2.07941518359281</dd><dt>Ireland</dt><dd>2.60630663096123</dd><dt>Italy</dt><dd>2.31468382394369</dd><dt>less_dev</dt><dd>2.59980078300802</dd><dt>Luxembourg</dt><dd>1.68999084148755</dd><dt>Netherlands</dt><dd>2.65380663096123</dd><dt>Portugal</dt><dd>1.99863119236474</dd><dt>Slovenia</dt><dd>2.66306101692615</dd><dt>Spain</dt><dd>2.07718382394369</dd></dl>\n"
      ],
      "text/latex": [
       "\\begin{description*}\n",
       "\\item[Austria] 1.87959610464545\n",
       "\\item[Belgium] 2.24972768359281\n",
       "\\item[dev] 2.19593382394369\n",
       "\\item[Estonia] 2.48731540289106\n",
       "\\item[euro\\textbackslash{}\\_area] 2.14858733271562\n",
       "\\item[Finland] 1.35328031517176\n",
       "\\item[France] 2.02038557832965\n",
       "\\item[Germany] 2.18222768359281\n",
       "\\item[Greece] 2.64902592920685\n",
       "\\item[high\\textbackslash{}\\_dev] 2.07941518359281\n",
       "\\item[Ireland] 2.60630663096123\n",
       "\\item[Italy] 2.31468382394369\n",
       "\\item[less\\textbackslash{}\\_dev] 2.59980078300802\n",
       "\\item[Luxembourg] 1.68999084148755\n",
       "\\item[Netherlands] 2.65380663096123\n",
       "\\item[Portugal] 1.99863119236474\n",
       "\\item[Slovenia] 2.66306101692615\n",
       "\\item[Spain] 2.07718382394369\n",
       "\\end{description*}\n"
      ],
      "text/markdown": [
       "Austria\n",
       ":   1.87959610464545Belgium\n",
       ":   2.24972768359281dev\n",
       ":   2.19593382394369Estonia\n",
       ":   2.48731540289106euro_area\n",
       ":   2.14858733271562Finland\n",
       ":   1.35328031517176France\n",
       ":   2.02038557832965Germany\n",
       ":   2.18222768359281Greece\n",
       ":   2.64902592920685high_dev\n",
       ":   2.07941518359281Ireland\n",
       ":   2.60630663096123Italy\n",
       ":   2.31468382394369less_dev\n",
       ":   2.59980078300802Luxembourg\n",
       ":   1.68999084148755Netherlands\n",
       ":   2.65380663096123Portugal\n",
       ":   1.99863119236474Slovenia\n",
       ":   2.66306101692615Spain\n",
       ":   2.07718382394369\n",
       "\n"
      ],
      "text/plain": [
       "    Austria     Belgium         dev     Estonia   euro_area     Finland \n",
       "     1.8796      2.2497      2.1959      2.4873      2.1486      1.3533 \n",
       "     France     Germany      Greece    high_dev     Ireland       Italy \n",
       "     2.0204      2.1822      2.6490      2.0794      2.6063      2.3147 \n",
       "   less_dev  Luxembourg Netherlands    Portugal    Slovenia       Spain \n",
       "     2.5998      1.6900      2.6538      1.9986      2.6631      2.0772 "
      ]
     },
     "metadata": {},
     "output_type": "display_data"
    }
   ],
   "source": [
    "# visualize the fixed effects for HOUSEHOLDS\n",
    "\n",
    "fixef(fem1_HH)"
   ]
  },
  {
   "cell_type": "markdown",
   "id": "ef494b96-df05-4bc0-ac93-6f466ae8ef5f",
   "metadata": {},
   "source": [
    "### Comparing the models"
   ]
  },
  {
   "cell_type": "code",
   "execution_count": 83,
   "id": "9dc7ddd8-99fa-4a95-ac3e-f19054a12b08",
   "metadata": {},
   "outputs": [
    {
     "data": {
      "text/plain": [
       "\n",
       "\tF test for individual effects\n",
       "\n",
       "data:  Corp_IR ~ MRO\n",
       "F = 383.09, df1 = 17, df2 = 4085, p-value < 2.2e-16\n",
       "alternative hypothesis: significant effects\n"
      ]
     },
     "metadata": {},
     "output_type": "display_data"
    }
   ],
   "source": [
    "# pooled regression for CORPORATION vs fixed effect model\n",
    "\n",
    "# Perform the F-test\n",
    "pFtest(fem1_Corp, pooled_reg_corp)\n"
   ]
  },
  {
   "cell_type": "markdown",
   "id": "a4a7048c-0ff4-43c6-ba5c-b7438d011bcb",
   "metadata": {},
   "source": [
    "*we reject the null, so we better use fixed effect model*"
   ]
  },
  {
   "cell_type": "code",
   "execution_count": 84,
   "id": "f485e1ac-6163-4b8a-ba3a-0ed42319fcee",
   "metadata": {},
   "outputs": [
    {
     "data": {
      "text/plain": [
       "\n",
       "\tF test for individual effects\n",
       "\n",
       "data:  HH_IR ~ MRO\n",
       "F = 91.165, df1 = 17, df2 = 4085, p-value < 2.2e-16\n",
       "alternative hypothesis: significant effects\n"
      ]
     },
     "metadata": {},
     "output_type": "display_data"
    }
   ],
   "source": [
    "# pooled regression for HOUSEHOLDS vs fixed effect model\n",
    "\n",
    "# Perform the F-test\n",
    "pFtest(fem1_HH, pooled_reg_HH)\n"
   ]
  },
  {
   "cell_type": "markdown",
   "id": "fbdc1d06-c73a-4f18-a892-fb3912a73159",
   "metadata": {},
   "source": [
    "### Visualization"
   ]
  },
  {
   "cell_type": "code",
   "execution_count": 85,
   "id": "bfc1a48a-4e19-46ca-865d-a1c0cd0b6e12",
   "metadata": {},
   "outputs": [
    {
     "data": {
      "image/png": "[encoded data removed]",
      "text/plain": [
       "plot without title"
      ]
     },
     "metadata": {
      "image/png": {
       "height": 420,
       "width": 420
      }
     },
     "output_type": "display_data"
    }
   ],
   "source": [
    "# Extract fixed effects (intercepts) from the model for CORPORATIONS\n",
    "country_effects <- fixef(fem1_Corp)\n",
    "\n",
    "# Turn into data frame for plotting\n",
    "df_effects <- data.frame(Country = names(country_effects),\n",
    "                         Effect = as.numeric(country_effects))\n",
    "\n",
    "# Define countries to highlight\n",
    "highlighted_countries <- c(\"high_dev\", \"dev\", \"less_dev\")\n",
    "\n",
    "# Add a new column for fill color\n",
    "df_effects$highlight <- ifelse(df_effects$Country %in% highlighted_countries, \"Highlighted\", \"Other\")\n",
    "\n",
    "# Plot with conditional coloring\n",
    "ggplot(df_effects, aes(x = reorder(Country, Effect), y = Effect, fill = highlight)) +\n",
    "  geom_col() +\n",
    "  coord_flip() +\n",
    "  scale_fill_manual(values = c(\"Highlighted\" = \"darkred\", \"Other\" = \"steelblue\")) +\n",
    "  labs(title = \"Estimated Country Fixed Effects for HOUSEHOLDS\",\n",
    "       x = \"Country\", y = \"Fixed Effect\", fill = \"\") +\n",
    "  theme_minimal()"
   ]
  },
  {
   "cell_type": "code",
   "execution_count": 86,
   "id": "54fa11d9-2bda-4868-9c22-5ce331c70899",
   "metadata": {},
   "outputs": [
    {
     "data": {
      "image/png": "[encoded data removed]",
      "text/plain": [
       "plot without title"
      ]
     },
     "metadata": {
      "image/png": {
       "height": 420,
       "width": 420
      }
     },
     "output_type": "display_data"
    }
   ],
   "source": [
    "# Extract fixed effects (intercepts) from the model for CORPORATIONS\n",
    "country_effects <- fixef(fem1_HH)\n",
    "\n",
    "# Turn into data frame for plotting\n",
    "df_effects <- data.frame(Country = names(country_effects),\n",
    "                         Effect = as.numeric(country_effects))\n",
    "\n",
    "# Define countries to highlight\n",
    "highlighted_countries <- c(\"high_dev\", \"dev\", \"less_dev\")\n",
    "\n",
    "# Add a new column for fill color\n",
    "df_effects$highlight <- ifelse(df_effects$Country %in% highlighted_countries, \"Highlighted\", \"Other\")\n",
    "\n",
    "# Plot with conditional coloring\n",
    "ggplot(df_effects, aes(x = reorder(Country, Effect), y = Effect, fill = highlight)) +\n",
    "  geom_col() +\n",
    "  coord_flip() +\n",
    "  scale_fill_manual(values = c(\"Highlighted\" = \"darkred\", \"Other\" = \"steelblue\")) +\n",
    "  labs(title = \"Estimated Country Fixed Effects for HOUSEHOLDS\",\n",
    "       x = \"Country\", y = \"Fixed Effect\", fill = \"\") +\n",
    "  theme_minimal()"
   ]
  },
  {
   "cell_type": "code",
   "execution_count": null,
   "id": "ba1ad847-0793-4fde-9f81-04fb6ee14735",
   "metadata": {},
   "outputs": [],
   "source": []
  }
 ],
 "metadata": {
  "kernelspec": {
   "display_name": "R",
   "language": "R",
   "name": "ir"
  },
  "language_info": {
   "codemirror_mode": "r",
   "file_extension": ".r",
   "mimetype": "text/x-r-source",
   "name": "R",
   "pygments_lexer": "r",
   "version": "4.4.1"
  }
 },
 "nbformat": 4,
 "nbformat_minor": 5
}
